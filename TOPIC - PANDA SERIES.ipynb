{
 "cells": [
  {
   "cell_type": "code",
   "execution_count": 1,
   "id": "1946388a",
   "metadata": {},
   "outputs": [],
   "source": [
    "import numpy as np\n",
    "import pandas as pd"
   ]
  },
  {
   "cell_type": "code",
   "execution_count": 2,
   "id": "3e3ccbaf",
   "metadata": {},
   "outputs": [
    {
     "data": {
      "text/plain": [
       "0    0\n",
       "1    1\n",
       "2    2\n",
       "3    3\n",
       "4    4\n",
       "5    5\n",
       "6    6\n",
       "7    7\n",
       "8    8\n",
       "9    9\n",
       "dtype: int32"
      ]
     },
     "execution_count": 2,
     "metadata": {},
     "output_type": "execute_result"
    }
   ],
   "source": [
    "array = np.arange(10)\n",
    "pandas_series = pd.Series(array)\n",
    "pandas_series"
   ]
  },
  {
   "cell_type": "code",
   "execution_count": 12,
   "id": "5eee5d62",
   "metadata": {},
   "outputs": [
    {
     "data": {
      "text/plain": [
       "array([0, 1, 2, 3, 4, 5, 6, 7, 8, 9])"
      ]
     },
     "execution_count": 12,
     "metadata": {},
     "output_type": "execute_result"
    }
   ],
   "source": [
    "pandas_series.values"
   ]
  },
  {
   "cell_type": "code",
   "execution_count": 15,
   "id": "24736b7d",
   "metadata": {},
   "outputs": [
    {
     "data": {
      "text/plain": [
       "RangeIndex(start=0, stop=10, step=1)"
      ]
     },
     "execution_count": 15,
     "metadata": {},
     "output_type": "execute_result"
    }
   ],
   "source": [
    "pandas_series.index"
   ]
  },
  {
   "cell_type": "code",
   "execution_count": 27,
   "id": "830cda57",
   "metadata": {},
   "outputs": [
    {
     "data": {
      "text/plain": [
       "11    0\n",
       "12    1\n",
       "13    2\n",
       "14    3\n",
       "15    4\n",
       "16    5\n",
       "17    6\n",
       "18    7\n",
       "19    8\n",
       "20    9\n",
       "Name: yes, dtype: int32"
      ]
     },
     "execution_count": 27,
     "metadata": {},
     "output_type": "execute_result"
    }
   ],
   "source": [
    "pandas_series.name = ('yes')\n",
    "pandas_series"
   ]
  },
  {
   "cell_type": "code",
   "execution_count": 29,
   "id": "f47a12f3",
   "metadata": {},
   "outputs": [
    {
     "data": {
      "text/plain": [
       "11    0\n",
       "12    1\n",
       "13    2\n",
       "14    3\n",
       "15    4\n",
       "16    5\n",
       "17    6\n",
       "18    7\n",
       "19    8\n",
       "20    9\n",
       "Name: yes, dtype: int32"
      ]
     },
     "execution_count": 29,
     "metadata": {},
     "output_type": "execute_result"
    }
   ],
   "source": [
    "pandas_series.index = [11, 12, 13, 14, 15, 16, 17, 18, 19, 20]\n",
    "pandas_series"
   ]
  },
  {
   "cell_type": "code",
   "execution_count": 47,
   "id": "5f12a01a",
   "metadata": {},
   "outputs": [
    {
     "data": {
      "text/plain": [
       "RangeIndex(start=0, stop=5, step=1)"
      ]
     },
     "execution_count": 47,
     "metadata": {},
     "output_type": "execute_result"
    }
   ],
   "source": [
    "\n",
    "pandas_series2 = pd.Series(np.arange(5), name='new series')\n",
    "pandas_series2.index"
   ]
  },
  {
   "cell_type": "code",
   "execution_count": 60,
   "id": "a5c63231",
   "metadata": {},
   "outputs": [
    {
     "data": {
      "text/plain": [
       "0    0\n",
       "5    1\n",
       "1    2\n",
       "3    3\n",
       "8    4\n",
       "Name: new series, dtype: int32"
      ]
     },
     "execution_count": 60,
     "metadata": {},
     "output_type": "execute_result"
    }
   ],
   "source": [
    "pandas_series2.index = (0, 5, 1, 3, 8)\n",
    "pandas_series2"
   ]
  },
  {
   "cell_type": "code",
   "execution_count": 4,
   "id": "515a2580",
   "metadata": {},
   "outputs": [
    {
     "data": {
      "text/plain": [
       "array([46.66, 45.32, 44.66, 44.07, 44.88, 44.96, 45.2 , 44.62, 43.39,\n",
       "       43.29, 45.86, 45.56, 45.37, 45.69, 47.48, 48.07, 46.72, 46.72,\n",
       "       45.66, 45.29, 49.41, 51.08, 51.7 , 51.72, 50.95, 49.85, 50.84,\n",
       "       51.51, 52.74, 52.99, 51.01, 50.9 , 51.93, 52.13, 52.22, 51.44,\n",
       "       51.98, 52.01, 52.82, 54.01, 53.8 , 53.75, 52.36, 53.26, 53.77,\n",
       "       53.98, 51.95, 50.82, 52.19, 53.01, 52.36, 52.45, 51.12, 51.39,\n",
       "       52.33, 52.77, 52.38, 52.14, 53.24, 53.18, 52.63, 52.75, 53.9 ,\n",
       "       53.55, 53.81, 53.01, 52.19, 52.37, 52.99, 53.84, 52.96, 53.21,\n",
       "       53.11, 53.41, 53.41, 54.02, 53.61, 54.48, 53.99, 54.04, 54.  ,\n",
       "       53.82, 52.63, 53.33, 53.19, 52.68, 49.83, 48.75, 48.05, 47.95,\n",
       "       47.24, 48.34, 48.3 , 48.34, 47.79, 47.02])"
      ]
     },
     "execution_count": 4,
     "metadata": {},
     "output_type": "execute_result"
    }
   ],
   "source": [
    "oil = pd.read_csv(\"../oil.csv\").dropna()\n",
    "oil_array = np.array(oil['dcoilwtico'].loc[1000:1100])\n",
    "oil_array\n"
   ]
  },
  {
   "cell_type": "code",
   "execution_count": 5,
   "id": "28064600",
   "metadata": {},
   "outputs": [
    {
     "data": {
      "text/plain": [
       "0     46.66\n",
       "1     45.32\n",
       "2     44.66\n",
       "3     44.07\n",
       "4     44.88\n",
       "      ...  \n",
       "91    48.34\n",
       "92    48.30\n",
       "93    48.34\n",
       "94    47.79\n",
       "95    47.02\n",
       "Name: oil_series, Length: 96, dtype: float64"
      ]
     },
     "execution_count": 5,
     "metadata": {},
     "output_type": "execute_result"
    }
   ],
   "source": [
    "oil_series = pd.Series(oil_array, name = 'oil_series')\n",
    "oil_series"
   ]
  },
  {
   "cell_type": "code",
   "execution_count": 6,
   "id": "00dfc581",
   "metadata": {},
   "outputs": [
    {
     "data": {
      "text/plain": [
       "'oil_series'"
      ]
     },
     "execution_count": 6,
     "metadata": {},
     "output_type": "execute_result"
    }
   ],
   "source": [
    "oil_series.name"
   ]
  },
  {
   "cell_type": "code",
   "execution_count": 7,
   "id": "ffbe98a5",
   "metadata": {},
   "outputs": [
    {
     "data": {
      "text/plain": [
       "dtype('float64')"
      ]
     },
     "execution_count": 7,
     "metadata": {},
     "output_type": "execute_result"
    }
   ],
   "source": [
    "oil_series.dtype"
   ]
  },
  {
   "cell_type": "code",
   "execution_count": 8,
   "id": "56787bfa",
   "metadata": {},
   "outputs": [
    {
     "data": {
      "text/plain": [
       "96"
      ]
     },
     "execution_count": 8,
     "metadata": {},
     "output_type": "execute_result"
    }
   ],
   "source": [
    "oil_series.size"
   ]
  },
  {
   "cell_type": "code",
   "execution_count": 9,
   "id": "deed51b8",
   "metadata": {},
   "outputs": [
    {
     "data": {
      "text/plain": [
       "RangeIndex(start=0, stop=96, step=1)"
      ]
     },
     "execution_count": 9,
     "metadata": {},
     "output_type": "execute_result"
    }
   ],
   "source": [
    "oil_series.index"
   ]
  },
  {
   "cell_type": "code",
   "execution_count": 10,
   "id": "e546711e",
   "metadata": {},
   "outputs": [
    {
     "data": {
      "text/plain": [
       "50.661458333333336"
      ]
     },
     "execution_count": 10,
     "metadata": {},
     "output_type": "execute_result"
    }
   ],
   "source": [
    "oil_series.mean()"
   ]
  },
  {
   "cell_type": "code",
   "execution_count": 11,
   "id": "51c9dc89",
   "metadata": {},
   "outputs": [
    {
     "data": {
      "text/plain": [
       "52.07"
      ]
     },
     "execution_count": 11,
     "metadata": {},
     "output_type": "execute_result"
    }
   ],
   "source": [
    "np.median(oil_series)"
   ]
  },
  {
   "cell_type": "code",
   "execution_count": 12,
   "id": "1dcd6991",
   "metadata": {},
   "outputs": [
    {
     "data": {
      "text/plain": [
       "0     46\n",
       "1     45\n",
       "2     44\n",
       "3     44\n",
       "4     44\n",
       "      ..\n",
       "91    48\n",
       "92    48\n",
       "93    48\n",
       "94    47\n",
       "95    47\n",
       "Name: oil_series, Length: 96, dtype: int64"
      ]
     },
     "execution_count": 12,
     "metadata": {},
     "output_type": "execute_result"
    }
   ],
   "source": [
    "oil_series.astype('int64')"
   ]
  },
  {
   "cell_type": "code",
   "execution_count": 13,
   "id": "3e2a487a",
   "metadata": {},
   "outputs": [
    {
     "data": {
      "text/plain": [
       "50.15625"
      ]
     },
     "execution_count": 13,
     "metadata": {},
     "output_type": "execute_result"
    }
   ],
   "source": [
    "oil_series.astype('int64').mean()"
   ]
  },
  {
   "cell_type": "code",
   "execution_count": 14,
   "id": "316e886f",
   "metadata": {},
   "outputs": [
    {
     "data": {
      "text/plain": [
       "0     52.22\n",
       "1     51.44\n",
       "2     51.98\n",
       "3     52.01\n",
       "4     52.82\n",
       "      ...  \n",
       "95    45.84\n",
       "96    47.28\n",
       "97    47.81\n",
       "98    47.83\n",
       "99    48.86\n",
       "Name: oil_series, Length: 100, dtype: float64"
      ]
     },
     "execution_count": 14,
     "metadata": {},
     "output_type": "execute_result"
    }
   ],
   "source": [
    "import numpy as np\n",
    "import pandas as pd\n",
    "oil = pd.read_csv(\"../oil.csv\").dropna()\n",
    "oil_array = np.array(oil['dcoilwtico'].iloc[1000:1100])\n",
    "oil_series = pd.Series(oil_array, name = 'oil_series')\n",
    "oil_series"
   ]
  },
  {
   "cell_type": "code",
   "execution_count": 15,
   "id": "f5a446bf",
   "metadata": {},
   "outputs": [
    {
     "data": {
      "text/plain": [
       "100"
      ]
     },
     "execution_count": 15,
     "metadata": {},
     "output_type": "execute_result"
    }
   ],
   "source": [
    "import numpy as np\n",
    "import pandas as pd\n",
    "oil = pd.read_csv(\"../oil.csv\").dropna()\n",
    "dates = np.array(oil['date'].iloc[1000:1100])\n",
    "dates.size\n"
   ]
  },
  {
   "cell_type": "code",
   "execution_count": 16,
   "id": "063877cf",
   "metadata": {},
   "outputs": [
    {
     "data": {
      "text/plain": [
       "2016-12-20    52.22\n",
       "2016-12-21    51.44\n",
       "2016-12-22    51.98\n",
       "2016-12-23    52.01\n",
       "2016-12-27    52.82\n",
       "              ...  \n",
       "2017-05-09    45.84\n",
       "2017-05-10    47.28\n",
       "2017-05-11    47.81\n",
       "2017-05-12    47.83\n",
       "2017-05-15    48.86\n",
       "Name: oil_series, Length: 100, dtype: float64"
      ]
     },
     "execution_count": 16,
     "metadata": {},
     "output_type": "execute_result"
    }
   ],
   "source": [
    "oil_series.index = dates\n",
    "oil_series"
   ]
  },
  {
   "cell_type": "code",
   "execution_count": 17,
   "id": "fc3e9fb9",
   "metadata": {},
   "outputs": [
    {
     "data": {
      "text/plain": [
       "2016-12-20    52.22\n",
       "2016-12-21    51.44\n",
       "2016-12-22    51.98\n",
       "2016-12-23    52.01\n",
       "2016-12-27    52.82\n",
       "2016-12-28    54.01\n",
       "2016-12-29    53.80\n",
       "2016-12-30    53.75\n",
       "2017-01-03    52.36\n",
       "2017-01-04    53.26\n",
       "Name: oil_series, dtype: float64"
      ]
     },
     "execution_count": 17,
     "metadata": {},
     "output_type": "execute_result"
    }
   ],
   "source": [
    "oil_series.iloc[:10]"
   ]
  },
  {
   "cell_type": "code",
   "execution_count": 18,
   "id": "af3ccb92",
   "metadata": {},
   "outputs": [
    {
     "data": {
      "text/plain": [
       "Series([], Name: oil_series, dtype: float64)"
      ]
     },
     "execution_count": 18,
     "metadata": {},
     "output_type": "execute_result"
    }
   ],
   "source": [
    "oil_series.loc['2016-11-01':'2016-11-14']"
   ]
  },
  {
   "cell_type": "code",
   "execution_count": 19,
   "id": "f9f2e966",
   "metadata": {},
   "outputs": [
    {
     "data": {
      "text/plain": [
       "52.765"
      ]
     },
     "execution_count": 19,
     "metadata": {},
     "output_type": "execute_result"
    }
   ],
   "source": [
    "#TO FIND MEAN OF THE FIRST 10 ROWS\n",
    "oil_series.iloc[:10].mean()"
   ]
  },
  {
   "cell_type": "code",
   "execution_count": 20,
   "id": "2e8a3fce",
   "metadata": {},
   "outputs": [
    {
     "data": {
      "text/plain": [
       "47.13"
      ]
     },
     "execution_count": 20,
     "metadata": {},
     "output_type": "execute_result"
    }
   ],
   "source": [
    "#TO FIND MEAN OF THE LAST 10 ROWS\n",
    "oil_series.iloc[-10:].mean()"
   ]
  },
  {
   "cell_type": "code",
   "execution_count": 21,
   "id": "938b3677",
   "metadata": {},
   "outputs": [
    {
     "data": {
      "text/plain": [
       "2016-12-20    52.22\n",
       "2016-12-21    51.44\n",
       "2016-12-22    51.98\n",
       "2016-12-23    52.01\n",
       "2016-12-27    52.82\n",
       "              ...  \n",
       "2017-04-25    49.22\n",
       "2017-04-26    49.22\n",
       "2017-04-27    48.96\n",
       "2017-04-28    49.31\n",
       "2017-05-01    48.83\n",
       "Name: oil_series, Length: 90, dtype: float64"
      ]
     },
     "execution_count": 21,
     "metadata": {},
     "output_type": "execute_result"
    }
   ],
   "source": [
    "# klo gini, dia awlnya dari awal, tapi berakhirnya dari sebelum 10 dari belakang\n",
    "oil_series.iloc[:-10]"
   ]
  },
  {
   "cell_type": "code",
   "execution_count": 22,
   "id": "04de2cb3",
   "metadata": {},
   "outputs": [
    {
     "data": {
      "text/plain": [
       "2017-05-02    47.65\n",
       "2017-05-03    47.79\n",
       "2017-05-04    45.55\n",
       "2017-05-05    46.23\n",
       "2017-05-08    46.46\n",
       "2017-05-09    45.84\n",
       "2017-05-10    47.28\n",
       "2017-05-11    47.81\n",
       "2017-05-12    47.83\n",
       "2017-05-15    48.86\n",
       "Name: oil_series, dtype: float64"
      ]
     },
     "execution_count": 22,
     "metadata": {},
     "output_type": "execute_result"
    }
   ],
   "source": [
    "# tpi klo gini, dia awlnya dari 10 dari belakang, berakhirnya sampe habis (?)\n",
    "oil_series.iloc[-10:]"
   ]
  },
  {
   "cell_type": "code",
   "execution_count": 23,
   "id": "56204516",
   "metadata": {},
   "outputs": [
    {
     "data": {
      "text/plain": [
       "2017-01-03    52.36\n",
       "2017-01-04    53.26\n",
       "2017-01-05    53.77\n",
       "2017-01-06    53.98\n",
       "Name: oil_series, dtype: float64"
      ]
     },
     "execution_count": 23,
     "metadata": {},
     "output_type": "execute_result"
    }
   ],
   "source": [
    "oil_series.loc['2017-01-01':'2017-01-07']"
   ]
  },
  {
   "cell_type": "code",
   "execution_count": 24,
   "id": "8b1a1fd4",
   "metadata": {},
   "outputs": [
    {
     "data": {
      "text/plain": [
       "0    52.36\n",
       "1    53.26\n",
       "2    53.77\n",
       "3    53.98\n",
       "Name: oil_series, dtype: float64"
      ]
     },
     "execution_count": 24,
     "metadata": {},
     "output_type": "execute_result"
    }
   ],
   "source": [
    "oil_series.loc['2017-01-01':'2017-01-07'].reset_index(drop=True)"
   ]
  },
  {
   "cell_type": "code",
   "execution_count": 4,
   "id": "15fbd6d5",
   "metadata": {},
   "outputs": [
    {
     "data": {
      "text/plain": [
       "2016-12-20    52.22\n",
       "2016-12-21    51.44\n",
       "2016-12-22    51.98\n",
       "2016-12-23    52.01\n",
       "2016-12-27    52.82\n",
       "              ...  \n",
       "2017-05-09    45.84\n",
       "2017-05-10    47.28\n",
       "2017-05-11    47.81\n",
       "2017-05-12    47.83\n",
       "2017-05-15    48.86\n",
       "Name: oil_series, Length: 100, dtype: float64"
      ]
     },
     "execution_count": 4,
     "metadata": {},
     "output_type": "execute_result"
    }
   ],
   "source": [
    "# ASSIGMENT SORTING AND FILTERING\n",
    "# IMPORT TOOLS, READ DATASET, CREATE ARRAY FOR VALUE, CREATE PANDA SERIES FROM ARRAY,CREATE ARRAY FOR INDEX, ASSIGN INDEX TO VALUES\n",
    "\n",
    "import numpy as np\n",
    "import pandas as pd\n",
    "oil = pd.read_csv(\"../oil.csv\").dropna()\n",
    "oil_array = np.array(oil['dcoilwtico'].iloc[1000:1100])\n",
    "oil_series = pd.Series(oil_array, name = 'oil_series')\n",
    "dates = np.array(oil['date'].iloc[1000:1100])\n",
    "oil_series.index = dates\n",
    "oil_series"
   ]
  },
  {
   "cell_type": "code",
   "execution_count": 36,
   "id": "0ff04d7b",
   "metadata": {},
   "outputs": [
    {
     "data": {
      "text/plain": [
       "100"
      ]
     },
     "execution_count": 36,
     "metadata": {},
     "output_type": "execute_result"
    }
   ],
   "source": [
    "oil_series.size"
   ]
  },
  {
   "cell_type": "code",
   "execution_count": 38,
   "id": "84750054",
   "metadata": {},
   "outputs": [
    {
     "data": {
      "text/plain": [
       "2017-05-04    45.55\n",
       "2017-05-09    45.84\n",
       "2017-05-05    46.23\n",
       "2017-05-08    46.46\n",
       "2017-03-23    47.00\n",
       "              ...  \n",
       "2017-02-28    54.00\n",
       "2016-12-28    54.01\n",
       "2017-02-21    54.02\n",
       "2017-02-27    54.04\n",
       "2017-02-23    54.48\n",
       "Name: oil_series, Length: 100, dtype: float64"
      ]
     },
     "execution_count": 38,
     "metadata": {},
     "output_type": "execute_result"
    }
   ],
   "source": [
    "oil_series.sort_values()"
   ]
  },
  {
   "cell_type": "code",
   "execution_count": 41,
   "id": "702786ae",
   "metadata": {},
   "outputs": [
    {
     "data": {
      "text/plain": [
       "2017-05-10    47.28\n",
       "2017-05-09    45.84\n",
       "2017-05-08    46.46\n",
       "2017-05-05    46.23\n",
       "2017-05-04    45.55\n",
       "2017-03-27    47.02\n",
       "2017-03-23    47.00\n",
       "2017-03-22    47.29\n",
       "2017-03-21    47.02\n",
       "2017-03-14    47.24\n",
       "Name: oil_series, dtype: float64"
      ]
     },
     "execution_count": 41,
     "metadata": {},
     "output_type": "execute_result"
    }
   ],
   "source": [
    "# SORT LOWEST VALUES, FILTER TO ONLY 10 VALUES, SORT AGAIN BASED ON THE MOST RECENT FROM THE LOWEST VALUE\n",
    "oil_series.sort_values().iloc[:10].sort_index(ascending=False)"
   ]
  },
  {
   "cell_type": "code",
   "execution_count": 58,
   "id": "b48316e1",
   "metadata": {},
   "outputs": [
    {
     "data": {
      "text/plain": [
       "2016-12-20    52.22\n",
       "2016-12-21    51.44\n",
       "2016-12-22    51.98\n",
       "2016-12-23    52.01\n",
       "2016-12-27    52.82\n",
       "              ...  \n",
       "2017-05-09    45.84\n",
       "2017-05-10    47.28\n",
       "2017-05-11    47.81\n",
       "2017-05-12    47.83\n",
       "2017-05-15    48.86\n",
       "Name: oil_series, Length: 100, dtype: float64"
      ]
     },
     "execution_count": 58,
     "metadata": {},
     "output_type": "execute_result"
    }
   ],
   "source": [
    "# RETURN TO RIGINAL DATA \n",
    "oil_series"
   ]
  },
  {
   "cell_type": "code",
   "execution_count": 64,
   "id": "3c214594",
   "metadata": {},
   "outputs": [
    {
     "data": {
      "text/plain": [
       "['2016-12-22',\n",
       " '2017-05-03',\n",
       " '2017-01-06',\n",
       " '2017-03-05',\n",
       " '2017-02-12',\n",
       " '2017-03-21',\n",
       " '2017-04-14',\n",
       " '2017-04-15']"
      ]
     },
     "execution_count": 64,
     "metadata": {},
     "output_type": "execute_result"
    }
   ],
   "source": [
    "# provided dates\n",
    "dates_provided = [\n",
    "    '2016-12-22',\n",
    "    '2017-05-03',\n",
    "    '2017-01-06',\n",
    "    '2017-03-05',\n",
    "    '2017-02-12',\n",
    "    '2017-03-21',\n",
    "    '2017-04-14',\n",
    "    '2017-04-15',\n",
    "]\n",
    "dates_provided"
   ]
  },
  {
   "cell_type": "code",
   "execution_count": 86,
   "id": "20778cc4",
   "metadata": {},
   "outputs": [],
   "source": [
    "# assign dates provided to mask, what will be shown i boolean value, need to specify the index.\n",
    "# therefore, put .index after the series name \n",
    "mask = (oil_series.index.isin(['2016-12-22',\n",
    " '2017-05-03',\n",
    " '2017-01-06',\n",
    " '2017-03-05',\n",
    " '2017-02-12',\n",
    " '2017-03-21',\n",
    " '2017-04-14',\n",
    " '2017-04-15'])) & (oil_series <= 50)\n"
   ]
  },
  {
   "cell_type": "code",
   "execution_count": 87,
   "id": "2141378a",
   "metadata": {},
   "outputs": [
    {
     "data": {
      "text/plain": [
       "2017-03-21    47.02\n",
       "2017-05-03    47.79\n",
       "Name: oil_series, dtype: float64"
      ]
     },
     "execution_count": 87,
     "metadata": {},
     "output_type": "execute_result"
    }
   ],
   "source": [
    "# show the location or the real value based in the mask (filter)\n",
    "oil_series.loc[mask]"
   ]
  },
  {
   "cell_type": "code",
   "execution_count": 88,
   "id": "c9105eae",
   "metadata": {},
   "outputs": [
    {
     "data": {
      "text/plain": [
       "2016-12-20    52.22\n",
       "2016-12-21    51.44\n",
       "2016-12-22    51.98\n",
       "2016-12-23    52.01\n",
       "2016-12-27    52.82\n",
       "              ...  \n",
       "2017-05-09    45.84\n",
       "2017-05-10    47.28\n",
       "2017-05-11    47.81\n",
       "2017-05-12    47.83\n",
       "2017-05-15    48.86\n",
       "Name: oil_series, Length: 100, dtype: float64"
      ]
     },
     "execution_count": 88,
     "metadata": {},
     "output_type": "execute_result"
    }
   ],
   "source": [
    "# ASSIGNMENT SERIES OPERATION\n",
    "oil_series"
   ]
  },
  {
   "cell_type": "code",
   "execution_count": 37,
   "id": "532d55ab",
   "metadata": {},
   "outputs": [
    {
     "data": {
      "text/plain": [
       "12    59.442\n",
       "12    58.584\n",
       "12    59.178\n",
       "12    59.211\n",
       "12    60.102\n",
       "       ...  \n",
       "5     52.424\n",
       "5     54.008\n",
       "5     54.591\n",
       "5     54.613\n",
       "5     55.746\n",
       "Name: oil_series, Length: 100, dtype: float64"
      ]
     },
     "execution_count": 37,
     "metadata": {},
     "output_type": "execute_result"
    }
   ],
   "source": [
    "#add 10% of the oil price and add 2 dollar more\n",
    "oil_series * 1.1 + 2"
   ]
  },
  {
   "cell_type": "code",
   "execution_count": 93,
   "id": "0b0b8096",
   "metadata": {},
   "outputs": [
    {
     "data": {
      "text/plain": [
       "54.48"
      ]
     },
     "execution_count": 93,
     "metadata": {},
     "output_type": "execute_result"
    }
   ],
   "source": [
    "#finding max price\n",
    "max_price = oil_series.max()\n",
    "max_price"
   ]
  },
  {
   "cell_type": "code",
   "execution_count": 109,
   "id": "9556fe04",
   "metadata": {},
   "outputs": [
    {
     "data": {
      "text/plain": [
       "2016-12-20    -4.148311\n",
       "2016-12-21    -5.580029\n",
       "2016-12-22    -4.588840\n",
       "2016-12-23    -4.533774\n",
       "2016-12-27    -3.046990\n",
       "                ...    \n",
       "2017-05-09   -15.859031\n",
       "2017-05-10   -13.215859\n",
       "2017-05-11   -12.243025\n",
       "2017-05-12   -12.206314\n",
       "2017-05-15   -10.315712\n",
       "Name: oil_series, Length: 100, dtype: float64"
      ]
     },
     "execution_count": 109,
     "metadata": {},
     "output_type": "execute_result"
    }
   ],
   "source": [
    "#create a series that represent the percent difference between each price and max price\n",
    "#first max price - oil price to find the different in number\n",
    "#after that the number is divided by oil_series value to find the portion relative to max price (to find out how much less is the intial price compared to max price)\n",
    "#after that value times 100 to find the percentage in value\n",
    "#after that add % in value column \n",
    "new_price_series = (oil_series - max_price) / max_price * 100\n",
    "new_price_series\n"
   ]
  },
  {
   "cell_type": "code",
   "execution_count": 144,
   "id": "5f0f05e5",
   "metadata": {},
   "outputs": [
    {
     "data": {
      "text/plain": [
       "2016-12-20    -4.148311\n",
       "2016-12-21    -5.580029\n",
       "2016-12-22    -4.588840\n",
       "2016-12-23    -4.533774\n",
       "2016-12-27    -3.046990\n",
       "                ...    \n",
       "2017-05-09   -15.859031\n",
       "2017-05-10   -13.215859\n",
       "2017-05-11   -12.243025\n",
       "2017-05-12   -12.206314\n",
       "2017-05-15   -10.315712\n",
       "Name: oil_series, Length: 100, dtype: float64"
      ]
     },
     "execution_count": 144,
     "metadata": {},
     "output_type": "execute_result"
    }
   ],
   "source": [
    "#practice\n",
    "new_price_series.astype(str)\n",
    "new_price_series"
   ]
  },
  {
   "cell_type": "code",
   "execution_count": 141,
   "id": "fbd78b84",
   "metadata": {},
   "outputs": [
    {
     "data": {
      "text/plain": [
       "0    <class 'str'>\n",
       "dtype: object"
      ]
     },
     "execution_count": 141,
     "metadata": {},
     "output_type": "execute_result"
    }
   ],
   "source": [
    "#practice\n",
    "npsap = pd.Series(new_price_series.astype(str))\n",
    "npsap"
   ]
  },
  {
   "cell_type": "code",
   "execution_count": 45,
   "id": "feb890a3",
   "metadata": {},
   "outputs": [
    {
     "data": {
      "text/plain": [
       "2016-12-20    52.22\n",
       "2016-12-21    51.44\n",
       "2016-12-22    51.98\n",
       "2016-12-23    52.01\n",
       "2016-12-27    52.82\n",
       "              ...  \n",
       "2017-05-09    45.84\n",
       "2017-05-10    47.28\n",
       "2017-05-11    47.81\n",
       "2017-05-12    47.83\n",
       "2017-05-15    48.86\n",
       "Name: oil_series, Length: 100, dtype: object"
      ]
     },
     "execution_count": 45,
     "metadata": {},
     "output_type": "execute_result"
    }
   ],
   "source": [
    "#practice\n",
    "oil_series = oil_series.astype(str)\n",
    "oil_series"
   ]
  },
  {
   "cell_type": "code",
   "execution_count": null,
   "id": "d6bf675d",
   "metadata": {},
   "outputs": [],
   "source": []
  },
  {
   "cell_type": "code",
   "execution_count": 149,
   "id": "f9ad76e5",
   "metadata": {},
   "outputs": [
    {
     "data": {
      "text/plain": [
       "2016-12-20    52.22%\n",
       "2016-12-21    51.44%\n",
       "2016-12-22    51.98%\n",
       "2016-12-23    52.01%\n",
       "2016-12-27    52.82%\n",
       "               ...  \n",
       "2017-05-09    45.84%\n",
       "2017-05-10    47.28%\n",
       "2017-05-11    47.81%\n",
       "2017-05-12    47.83%\n",
       "2017-05-15    48.86%\n",
       "Name: oil_series, Length: 100, dtype: object"
      ]
     },
     "execution_count": 149,
     "metadata": {},
     "output_type": "execute_result"
    }
   ],
   "source": [
    "#practice\n",
    "add_percent = oil_series + ('%')\n",
    "add_percent"
   ]
  },
  {
   "cell_type": "code",
   "execution_count": 70,
   "id": "4531b50b",
   "metadata": {},
   "outputs": [
    {
     "data": {
      "text/plain": [
       "0     12\n",
       "1     12\n",
       "2     12\n",
       "3     12\n",
       "4     12\n",
       "      ..\n",
       "95     5\n",
       "96     5\n",
       "97     5\n",
       "98     5\n",
       "99     5\n",
       "Length: 100, dtype: int64"
      ]
     },
     "execution_count": 70,
     "metadata": {},
     "output_type": "execute_result"
    }
   ],
   "source": [
    "#extract the month from the string dates in index\n",
    "#after that, convert it into panda, and convert the data type into integer\n",
    "month = oil_series.index.str[5:7]\n",
    "month_series = pd.Series(month.astype(int))\n",
    "month_series"
   ]
  },
  {
   "cell_type": "code",
   "execution_count": null,
   "id": "81bda650",
   "metadata": {},
   "outputs": [],
   "source": []
  },
  {
   "cell_type": "code",
   "execution_count": 71,
   "id": "b0e5232f",
   "metadata": {},
   "outputs": [
    {
     "data": {
      "text/plain": [
       "12    52.22\n",
       "12    51.44\n",
       "12    51.98\n",
       "12    52.01\n",
       "12    52.82\n",
       "      ...  \n",
       "05    45.84\n",
       "05    47.28\n",
       "05    47.81\n",
       "05    47.83\n",
       "05    48.86\n",
       "Name: oil_series, Length: 100, dtype: float64"
      ]
     },
     "execution_count": 71,
     "metadata": {},
     "output_type": "execute_result"
    }
   ],
   "source": [
    "#practice\n",
    "oil_series2 = pd.Series(oil_series)\n",
    "oil_series2.index = month\n",
    "oil_series2"
   ]
  },
  {
   "cell_type": "code",
   "execution_count": 69,
   "id": "3412a919",
   "metadata": {},
   "outputs": [
    {
     "data": {
      "text/plain": [
       "2016-12-20    52.22\n",
       "2016-12-21    51.44\n",
       "2016-12-22    51.98\n",
       "2016-12-23    52.01\n",
       "2016-12-27    52.82\n",
       "              ...  \n",
       "2017-05-09    45.84\n",
       "2017-05-10    47.28\n",
       "2017-05-11    47.81\n",
       "2017-05-12    47.83\n",
       "2017-05-15    48.86\n",
       "Name: oil_series, Length: 100, dtype: float64"
      ]
     },
     "execution_count": 69,
     "metadata": {},
     "output_type": "execute_result"
    }
   ],
   "source": [
    "# ASSIGNMENT SERIES AGGREGATION USING MY OWN METHOD\n",
    "oil_series2[oil_series2.index == \"03\"]\n",
    "oil_series"
   ]
  },
  {
   "cell_type": "code",
   "execution_count": 72,
   "id": "6a79e69c",
   "metadata": {},
   "outputs": [
    {
     "data": {
      "text/plain": [
       "1134.5399999999997"
      ]
     },
     "execution_count": 72,
     "metadata": {},
     "output_type": "execute_result"
    }
   ],
   "source": [
    "#practice\n",
    "oil_series2[oil_series2.index == \"03\"].sum()"
   ]
  },
  {
   "cell_type": "code",
   "execution_count": 80,
   "id": "4be6c13e",
   "metadata": {},
   "outputs": [
    {
     "data": {
      "text/plain": [
       "39"
      ]
     },
     "execution_count": 80,
     "metadata": {},
     "output_type": "execute_result"
    }
   ],
   "source": [
    "#practice\n",
    "oil_series2[oil_series2.index.isin(['01','02'])].count()"
   ]
  },
  {
   "cell_type": "code",
   "execution_count": 112,
   "id": "4b6cb79f",
   "metadata": {},
   "outputs": [
    {
     "data": {
      "text/plain": [
       "2016-12-20    52.22\n",
       "2016-12-21    51.44\n",
       "2016-12-22    51.98\n",
       "2016-12-23    52.01\n",
       "2016-12-27    52.82\n",
       "              ...  \n",
       "2017-05-09    45.84\n",
       "2017-05-10    47.28\n",
       "2017-05-11    47.81\n",
       "2017-05-12    47.83\n",
       "2017-05-15    48.86\n",
       "Name: oil_series, Length: 100, dtype: float64"
      ]
     },
     "execution_count": 112,
     "metadata": {},
     "output_type": "execute_result"
    }
   ],
   "source": [
    "# ASSIGNMENT: SERIES AGGREGATION\n",
    "import numpy as np\n",
    "import pandas as pd\n",
    "oil = pd.read_csv(\"../oil.csv\").dropna()\n",
    "oil_array = np.array(oil['dcoilwtico'].iloc[1000:1100])\n",
    "oil_series = pd.Series(oil_array, name = 'oil_series')\n",
    "dates = np.array(oil['date'].iloc[1000:1100])\n",
    "oil_series.index = dates\n",
    "oil_series"
   ]
  },
  {
   "cell_type": "code",
   "execution_count": 66,
   "id": "86a52428",
   "metadata": {},
   "outputs": [
    {
     "data": {
      "text/plain": [
       "1134.54"
      ]
     },
     "execution_count": 66,
     "metadata": {},
     "output_type": "execute_result"
    }
   ],
   "source": [
    "# calculate sum in month of march\n",
    "oil_series[oil_series.index.str[5:7] == '03'].sum().round(2)"
   ]
  },
  {
   "cell_type": "code",
   "execution_count": 68,
   "id": "c8041119",
   "metadata": {},
   "outputs": [
    {
     "data": {
      "text/plain": [
       "49.32782608695651"
      ]
     },
     "execution_count": 68,
     "metadata": {},
     "output_type": "execute_result"
    }
   ],
   "source": [
    "# calculate mean in month of march\n",
    "oil_series[oil_series.index.str[5:7] == '03'].mean()"
   ]
  },
  {
   "cell_type": "code",
   "execution_count": 92,
   "id": "989cd731",
   "metadata": {},
   "outputs": [
    {
     "data": {
      "text/plain": [
       "0"
      ]
     },
     "execution_count": 92,
     "metadata": {},
     "output_type": "execute_result"
    }
   ],
   "source": [
    "oil_series[oil_series.index.str[6:7].isin(['1','2'])].count()"
   ]
  },
  {
   "cell_type": "code",
   "execution_count": 88,
   "id": "7043acb4",
   "metadata": {},
   "outputs": [
    {
     "data": {
      "text/plain": [
       "39"
      ]
     },
     "execution_count": 88,
     "metadata": {},
     "output_type": "execute_result"
    }
   ],
   "source": [
    "oil_series2[oil_series2.index.isin(['01','02'])].count()"
   ]
  },
  {
   "cell_type": "code",
   "execution_count": 109,
   "id": "0f0f15cd",
   "metadata": {},
   "outputs": [
    {
     "data": {
      "text/plain": [
       "0.1    47.299\n",
       "0.9    53.811\n",
       "Name: oil_series, dtype: float64"
      ]
     },
     "execution_count": 109,
     "metadata": {},
     "output_type": "execute_result"
    }
   ],
   "source": [
    "oil_series.quantile([0.1 , 0.9])"
   ]
  },
  {
   "cell_type": "code",
   "execution_count": 108,
   "id": "84b66b48",
   "metadata": {},
   "outputs": [
    {
     "data": {
      "text/plain": [
       "53    0.26\n",
       "52    0.22\n",
       "47    0.13\n",
       "48    0.10\n",
       "51    0.07\n",
       "50    0.07\n",
       "49    0.06\n",
       "54    0.05\n",
       "45    0.02\n",
       "46    0.02\n",
       "Name: oil_series, dtype: float64"
      ]
     },
     "execution_count": 108,
     "metadata": {},
     "output_type": "execute_result"
    }
   ],
   "source": [
    "# find frequency of value, an normalize to percent\n",
    "oil_series.astype(int).value_counts(normalize=True)"
   ]
  },
  {
   "cell_type": "code",
   "execution_count": 114,
   "id": "743df209",
   "metadata": {},
   "outputs": [
    {
     "data": {
      "text/plain": [
       "2016-12-20    52.22\n",
       "2016-12-21    51.44\n",
       "2016-12-22    51.98\n",
       "2016-12-23    52.01\n",
       "2016-12-27    52.82\n",
       "              ...  \n",
       "2017-05-09    45.84\n",
       "2017-05-10    47.28\n",
       "2017-05-11    47.81\n",
       "2017-05-12    47.83\n",
       "2017-05-15    48.86\n",
       "Name: oil_series, Length: 100, dtype: float64"
      ]
     },
     "execution_count": 114,
     "metadata": {},
     "output_type": "execute_result"
    }
   ],
   "source": [
    "# ASSIGNMENT MISSING DATA\n",
    "# replacing 51.44 and 47.83 with missing values\n",
    "\n",
    "import numpy as np\n",
    "import pandas as pd\n",
    "oil_series"
   ]
  },
  {
   "cell_type": "code",
   "execution_count": 117,
   "id": "f4ffcbc6",
   "metadata": {},
   "outputs": [
    {
     "data": {
      "text/plain": [
       "2016-12-21    51.44\n",
       "2017-05-12    47.83\n",
       "Name: oil_series, dtype: float64"
      ]
     },
     "execution_count": 117,
     "metadata": {},
     "output_type": "execute_result"
    }
   ],
   "source": [
    "#practice\n",
    "#finding the value needed\n",
    "mask = oil_series.isin([51.44, 47.83])\n",
    "salah = oil_series[mask]\n",
    "salah"
   ]
  },
  {
   "cell_type": "code",
   "execution_count": 125,
   "id": "272efee2",
   "metadata": {},
   "outputs": [
    {
     "data": {
      "text/plain": [
       "2016-12-20    52.22\n",
       "2016-12-21      NaN\n",
       "2016-12-22    51.98\n",
       "2016-12-23    52.01\n",
       "2016-12-27    52.82\n",
       "              ...  \n",
       "2017-05-09    45.84\n",
       "2017-05-10    47.28\n",
       "2017-05-11    47.81\n",
       "2017-05-12      NaN\n",
       "2017-05-15    48.86\n",
       "Name: oil_series, Length: 100, dtype: float64"
      ]
     },
     "execution_count": 125,
     "metadata": {},
     "output_type": "execute_result"
    }
   ],
   "source": [
    "#replacing the numbers with NaN, missing values\n",
    "new_oil_series = oil_series.where(~oil_series.isin([51.44, 47.83]), np.NaN)\n",
    "new_oil_series"
   ]
  },
  {
   "cell_type": "code",
   "execution_count": 148,
   "id": "4208335e",
   "metadata": {},
   "outputs": [
    {
     "data": {
      "text/plain": [
       "2"
      ]
     },
     "execution_count": 148,
     "metadata": {},
     "output_type": "execute_result"
    }
   ],
   "source": [
    "#finding frequency of missing value\n",
    "new_oil_series.isna().sum()"
   ]
  },
  {
   "cell_type": "code",
   "execution_count": 152,
   "id": "7d059ea2",
   "metadata": {},
   "outputs": [
    {
     "data": {
      "text/plain": [
       "2016-12-20    52.220\n",
       "2016-12-21    52.205\n",
       "2016-12-22    51.980\n",
       "2016-12-23    52.010\n",
       "2016-12-27    52.820\n",
       "               ...  \n",
       "2017-05-09    45.840\n",
       "2017-05-10    47.280\n",
       "2017-05-11    47.810\n",
       "2017-05-12    52.205\n",
       "2017-05-15    48.860\n",
       "Name: oil_series, Length: 100, dtype: float64"
      ]
     },
     "execution_count": 152,
     "metadata": {},
     "output_type": "execute_result"
    }
   ],
   "source": [
    "#replacing NaN with median\n",
    "new_oil_series.fillna(new_oil_series.median())"
   ]
  },
  {
   "cell_type": "code",
   "execution_count": 209,
   "id": "0c5c1ab2",
   "metadata": {},
   "outputs": [
    {
     "data": {
      "text/plain": [
       "dates\n",
       "2016-12-20    52.22\n",
       "2016-12-21      NaN\n",
       "2016-12-22    51.98\n",
       "2016-12-23    52.01\n",
       "2016-12-27    52.82\n",
       "              ...  \n",
       "2017-05-09    45.84\n",
       "2017-05-10    47.28\n",
       "2017-05-11    47.81\n",
       "2017-05-12      NaN\n",
       "2017-05-15    48.86\n",
       "Name: oil_series, Length: 100, dtype: float64"
      ]
     },
     "execution_count": 209,
     "metadata": {},
     "output_type": "execute_result"
    }
   ],
   "source": [
    "# ASSIGNMENT APPLY AND WHERE\n",
    "new_oil_series.index.name = 'dates'\n",
    "new_oil_series\n"
   ]
  },
  {
   "cell_type": "code",
   "execution_count": 210,
   "id": "1c9b7553",
   "metadata": {},
   "outputs": [
    {
     "name": "stdout",
     "output_type": "stream",
     "text": [
      "Index Name: dates\n"
     ]
    }
   ],
   "source": [
    "index_name = new_oil_series.index.name\n",
    "print(\"Index Name:\", index_name)"
   ]
  },
  {
   "cell_type": "code",
   "execution_count": 166,
   "id": "41b3a363",
   "metadata": {},
   "outputs": [
    {
     "data": {
      "text/plain": [
       "2016-12-20     Buy\n",
       "2016-12-21    Wait\n",
       "2016-12-22     Buy\n",
       "2016-12-23     Buy\n",
       "2016-12-27     Buy\n",
       "              ... \n",
       "2017-05-09     Buy\n",
       "2017-05-10     Buy\n",
       "2017-05-11     Buy\n",
       "2017-05-12    Wait\n",
       "2017-05-15     Buy\n",
       "Name: oil_series, Length: 100, dtype: object"
      ]
     },
     "execution_count": 166,
     "metadata": {},
     "output_type": "execute_result"
    }
   ],
   "source": [
    "#if the oil price is less than 90th percentile, than the result is buy\n",
    "#if it is more than or NaN, then the result is wait\n",
    "#create panda where function for the first cndition, then create the second condition\n",
    "new_oil_series.where(~(new_oil_series < (new_oil_series.quantile(0.9))), \"Buy\").where(new_oil_series < (new_oil_series.quantile(0.9)), \"Wait\")\n",
    "\n"
   ]
  },
  {
   "cell_type": "code",
   "execution_count": 204,
   "id": "8d79c28a",
   "metadata": {},
   "outputs": [
    {
     "data": {
      "text/plain": [
       "2016-12-20     Buy\n",
       "2016-12-21    Wait\n",
       "2016-12-22     Buy\n",
       "2016-12-23     Buy\n",
       "2016-12-27     Buy\n",
       "              ... \n",
       "2017-05-09     Buy\n",
       "2017-05-10     Buy\n",
       "2017-05-11     Buy\n",
       "2017-05-12    Wait\n",
       "2017-05-15     Buy\n",
       "Name: oil_series, Length: 100, dtype: object"
      ]
     },
     "execution_count": 204,
     "metadata": {},
     "output_type": "execute_result"
    }
   ],
   "source": [
    "#another way to do it is with lambda\n",
    "new_oil_series.apply(lambda x: \"Buy\" if x < (new_oil_series.quantile(.9)) else \"Wait\")"
   ]
  },
  {
   "cell_type": "code",
   "execution_count": 201,
   "id": "7946bdf1",
   "metadata": {},
   "outputs": [
    {
     "data": {
      "text/plain": [
       "2016-12-20    57.442\n",
       "2016-12-21       NaN\n",
       "2016-12-22    57.178\n",
       "2016-12-23    46.809\n",
       "2016-12-27    58.102\n",
       "               ...  \n",
       "2017-05-09    50.424\n",
       "2017-05-10    42.552\n",
       "2017-05-11    52.591\n",
       "2017-05-12       NaN\n",
       "2017-05-15    53.746\n",
       "Length: 100, dtype: float64"
      ]
     },
     "execution_count": 201,
     "metadata": {},
     "output_type": "execute_result"
    }
   ],
   "source": [
    "#Q2. create a series that multiply result by 0.9 in certain dates\n",
    "# first create the definition\n",
    "\n",
    "oil_seriez = pd.Series(\n",
    "    np.where(\n",
    "    new_oil_series.index.isin(['2017-05-10','2016-12-23']), \n",
    "    new_oil_series * 0.9, \n",
    "    new_oil_series * 1.1)\n",
    ")\n",
    "\n",
    "oil_seriez.index=dates\n",
    "oil_seriez"
   ]
  },
  {
   "cell_type": "code",
   "execution_count": null,
   "id": "d60c0012",
   "metadata": {},
   "outputs": [],
   "source": [
    "#DONE---------------------------------------------------------------------------------------------------------------------------"
   ]
  },
  {
   "cell_type": "code",
   "execution_count": null,
   "id": "3fb17471",
   "metadata": {},
   "outputs": [],
   "source": []
  },
  {
   "cell_type": "code",
   "execution_count": null,
   "id": "35c8e9fe",
   "metadata": {},
   "outputs": [],
   "source": []
  }
 ],
 "metadata": {
  "kernelspec": {
   "display_name": "Python 3 (ipykernel)",
   "language": "python",
   "name": "python3"
  },
  "language_info": {
   "codemirror_mode": {
    "name": "ipython",
    "version": 3
   },
   "file_extension": ".py",
   "mimetype": "text/x-python",
   "name": "python",
   "nbconvert_exporter": "python",
   "pygments_lexer": "ipython3",
   "version": "3.11.4"
  }
 },
 "nbformat": 4,
 "nbformat_minor": 5
}
